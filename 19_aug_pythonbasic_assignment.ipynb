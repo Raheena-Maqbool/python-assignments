{
 "cells": [
  {
   "cell_type": "code",
   "execution_count": 1,
   "id": "e846bcb4-85cb-4568-897a-2c188f89d0cf",
   "metadata": {},
   "outputs": [
    {
     "data": {
      "text/plain": [
       "' TOPIC :\"PYTHON BASIC\" '"
      ]
     },
     "execution_count": 1,
     "metadata": {},
     "output_type": "execute_result"
    }
   ],
   "source": [
    "#Name : Raheena Maqbool\n",
    "#course : full stack data science pro\n",
    "#mail : Rahinamaqbool11@gmail.com\n",
    " \n",
    "\"\"\" TOPIC :\"PYTHON BASIC\" \"\"\""
   ]
  },
  {
   "cell_type": "code",
   "execution_count": 2,
   "id": "c74aee41-57cc-4968-add2-03c8cb0a0ba1",
   "metadata": {},
   "outputs": [],
   "source": [
    "#Q1 Declare two variables, `x` and `y`, and assign them integer values. Swap the\n",
    "#values of these variables without using any temporary variable."
   ]
  },
  {
   "cell_type": "code",
   "execution_count": 6,
   "id": "b9defdc8-d579-4c29-a7a6-12e54810c262",
   "metadata": {},
   "outputs": [
    {
     "name": "stdout",
     "output_type": "stream",
     "text": [
      "After swapping:\n",
      "x = 10\n",
      "y = 5\n"
     ]
    }
   ],
   "source": [
    "#answer(code):\n",
    "x=5\n",
    "y=10\n",
    "\n",
    "x, y = y, x\n",
    "\n",
    "print(\"After swapping:\")\n",
    "print(\"x =\", x)\n",
    "print(\"y =\", y)\n",
    "\n"
   ]
  },
  {
   "cell_type": "code",
   "execution_count": 7,
   "id": "e5a354e4-4ed2-460b-9225-2dab442c91da",
   "metadata": {},
   "outputs": [
    {
     "data": {
      "text/plain": [
       "10"
      ]
     },
     "execution_count": 7,
     "metadata": {},
     "output_type": "execute_result"
    }
   ],
   "source": [
    "x"
   ]
  },
  {
   "cell_type": "code",
   "execution_count": 8,
   "id": "1874a315-73c7-4d54-95c9-14e9a0c8a669",
   "metadata": {},
   "outputs": [
    {
     "data": {
      "text/plain": [
       "5"
      ]
     },
     "execution_count": 8,
     "metadata": {},
     "output_type": "execute_result"
    }
   ],
   "source": [
    "y"
   ]
  },
  {
   "cell_type": "code",
   "execution_count": 9,
   "id": "fbaa96c8-320b-49b7-b0f1-478207f8329b",
   "metadata": {},
   "outputs": [],
   "source": [
    "#Q2 Create a program that calculates the area of a rectangle. Take the length and\n",
    "#width as inputs from the user and store them in variables. Calculate and\n",
    "#display the area."
   ]
  },
  {
   "cell_type": "code",
   "execution_count": 10,
   "id": "cecb1322-5cdc-40a7-a38d-fef5a3b5d283",
   "metadata": {},
   "outputs": [
    {
     "name": "stdin",
     "output_type": "stream",
     "text": [
      "Enter the length of the rectangle:  3\n",
      "Enter the width of the rectangle:  7\n"
     ]
    },
    {
     "name": "stdout",
     "output_type": "stream",
     "text": [
      "The area of the rectangle is: 21.0\n"
     ]
    }
   ],
   "source": [
    "#answer(code):\n",
    "\n",
    "# Take length and width as inputs from the user\n",
    "length = float(input(\"Enter the length of the rectangle: \"))\n",
    "width = float(input(\"Enter the width of the rectangle: \"))\n",
    "\n",
    "# Calculate the area of the rectangle\n",
    "area =  (length * width)\n",
    "\n",
    "# Display the area\n",
    "print(\"The area of the rectangle is:\", area)"
   ]
  },
  {
   "cell_type": "code",
   "execution_count": 11,
   "id": "fc3733d4-4a87-4d29-909f-400def18639c",
   "metadata": {},
   "outputs": [],
   "source": [
    "#Q3 Write a Python program that converts temperatures from Celsius to\n",
    "#Fahrenheit. Take the temperature in Celsius as input, store it in a variable,\n",
    "#convert it to Fahrenheit, and display the result."
   ]
  },
  {
   "cell_type": "code",
   "execution_count": 28,
   "id": "99a3d642-2a85-474d-95d8-96d9d9a9db14",
   "metadata": {},
   "outputs": [
    {
     "name": "stdin",
     "output_type": "stream",
     "text": [
      "enter the temperture in celcuis to convert in fahrenhiet 70\n"
     ]
    },
    {
     "name": "stdout",
     "output_type": "stream",
     "text": [
      "the temperature in fahrenhiet is: 158.0\n"
     ]
    }
   ],
   "source": [
    "#answer(code):\n",
    "celsius = float(input(\"enter the temperture in celcuis to convert in fahrenhiet\"))\n",
    "\n",
    "#calculation:\n",
    "fehrenhiet =  ( celsius * 9/5) + 32\n",
    "\n",
    "#display the result:\n",
    "print(\"the temperature in fahrenhiet is:\" , fehrenhiet)\n"
   ]
  },
  {
   "cell_type": "code",
   "execution_count": 29,
   "id": "b8c3727b-6be2-4eb2-977f-87f6a7f3f2e4",
   "metadata": {},
   "outputs": [
    {
     "data": {
      "text/plain": [
       "'string based questions'"
      ]
     },
     "execution_count": 29,
     "metadata": {},
     "output_type": "execute_result"
    }
   ],
   "source": [
    "\"\"\"string based questions\"\"\"\n",
    "\n",
    "\n",
    "#Write a Python program that takes a string as input and prints the length of\n",
    "#the string."
   ]
  },
  {
   "cell_type": "code",
   "execution_count": 32,
   "id": "c67cea2d-2eb1-4f45-920b-8861434152b6",
   "metadata": {},
   "outputs": [
    {
     "name": "stdin",
     "output_type": "stream",
     "text": [
      "enter the string  pwskills\n"
     ]
    },
    {
     "name": "stdout",
     "output_type": "stream",
     "text": [
      "8\n"
     ]
    }
   ],
   "source": [
    "#answer(code):\n",
    "string = input(\"enter the string \")\n",
    "\n",
    "print(len(string))"
   ]
  },
  {
   "cell_type": "code",
   "execution_count": 33,
   "id": "d219f151-7db2-4829-9596-4ac3e72b8949",
   "metadata": {},
   "outputs": [],
   "source": [
    "#Create a program that takes a sentence from the user and counts the number\n",
    "#of vowels (a, e, i, o, u) in the string."
   ]
  },
  {
   "cell_type": "code",
   "execution_count": 35,
   "id": "041d66f6-6ee9-45ad-a784-52820c38a9b3",
   "metadata": {},
   "outputs": [
    {
     "name": "stdin",
     "output_type": "stream",
     "text": [
      "Enter a sentence:  data science\n"
     ]
    },
    {
     "name": "stdout",
     "output_type": "stream",
     "text": [
      "The number of vowels in the sentence is: 5\n"
     ]
    }
   ],
   "source": [
    "#answer(code):\n",
    " # Take a sentence as input from the user\n",
    "sentence = input(\"Enter a sentence: \")\n",
    "\n",
    "vowels = {'a', 'e', 'i', 'o', 'u'}\n",
    "\n",
    "# Count the number of vowels in the sentence\n",
    "vowel_count = sum(sentence.lower().count(vowel) for vowel in vowels)\n",
    "\n",
    "print(\"The number of vowels in the sentence is:\", vowel_count)\n",
    "  "
   ]
  },
  {
   "cell_type": "code",
   "execution_count": null,
   "id": "5598c014-9f76-48d7-817c-9f88245d7b57",
   "metadata": {},
   "outputs": [],
   "source": [
    "#Given a string, reverse the order of characters using string slicing and print\n",
    "#the reversed string."
   ]
  },
  {
   "cell_type": "code",
   "execution_count": 43,
   "id": "aa313672-eaa4-4419-8531-8fcce0d5ce16",
   "metadata": {},
   "outputs": [
    {
     "name": "stdin",
     "output_type": "stream",
     "text": [
      "Enter a string:  uiui\n"
     ]
    },
    {
     "name": "stdout",
     "output_type": "stream",
     "text": [
      "Reversed string: iuiu\n"
     ]
    }
   ],
   "source": [
    "\n",
    "input_string = input(\"Enter a string: \")\n",
    "\n",
    "reversed_string = input_string[::-1]\n",
    "\n",
    "print(\"Reversed string:\", reversed_string)"
   ]
  },
  {
   "cell_type": "code",
   "execution_count": 47,
   "id": "f54da564-f8ed-4e12-8ebe-5673aab197da",
   "metadata": {},
   "outputs": [
    {
     "name": "stdin",
     "output_type": "stream",
     "text": [
      "Enter a string:  sos\n"
     ]
    },
    {
     "name": "stdout",
     "output_type": "stream",
     "text": [
      "The string is a palindrome.\n"
     ]
    }
   ],
   "source": [
    "\n",
    "input_string = input(\"Enter a string: \")\n",
    "\n",
    "# Remove spaces and convert the string to lowercase for case-insensitive comparison\n",
    "cleaned_string = input_string.replace(\" \", \"\").lower()\n",
    "\n",
    "if cleaned_string == cleaned_string[::-1]:\n",
    "    print(\"The string is a palindrome.\")\n",
    "else:\n",
    "    print(\"The string is not a palindrome.\")"
   ]
  },
  {
   "cell_type": "code",
   "execution_count": 48,
   "id": "51bb9831-f3af-4899-919e-e6f5d34ce1a8",
   "metadata": {},
   "outputs": [],
   "source": [
    "#Create a program that takes a string as input and removes all the spaces from\n",
    "#it. Print the modified string without spaces."
   ]
  },
  {
   "cell_type": "code",
   "execution_count": 58,
   "id": "40412739-1d55-4bba-9e32-8c60c8d49849",
   "metadata": {},
   "outputs": [
    {
     "name": "stdin",
     "output_type": "stream",
     "text": [
      "Enter a string:  im learning datascience\n"
     ]
    },
    {
     "name": "stdout",
     "output_type": "stream",
     "text": [
      "Modified string without spaces: imlearningdatascience\n"
     ]
    }
   ],
   "source": [
    "input_string = input(\"Enter a string: \")\n",
    "\n",
    "modified_string = input_string.replace(\" \", \"\")\n",
    "\n",
    "# Print the modified string without spaces\n",
    "print(\"Modified string without spaces:\", modified_string)\n"
   ]
  },
  {
   "cell_type": "code",
   "execution_count": null,
   "id": "83a89b5d-1653-471f-a53b-ac01d41eac53",
   "metadata": {},
   "outputs": [],
   "source": []
  }
 ],
 "metadata": {
  "kernelspec": {
   "display_name": "Python 3 (ipykernel)",
   "language": "python",
   "name": "python3"
  },
  "language_info": {
   "codemirror_mode": {
    "name": "ipython",
    "version": 3
   },
   "file_extension": ".py",
   "mimetype": "text/x-python",
   "name": "python",
   "nbconvert_exporter": "python",
   "pygments_lexer": "ipython3",
   "version": "3.10.8"
  }
 },
 "nbformat": 4,
 "nbformat_minor": 5
}
